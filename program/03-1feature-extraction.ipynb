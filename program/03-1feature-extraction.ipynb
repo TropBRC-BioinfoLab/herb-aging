{
 "cells": [
  {
   "cell_type": "code",
   "execution_count": 1,
   "id": "aada7e24",
   "metadata": {
    "_cell_guid": "b1076dfc-b9ad-4769-8c92-a6c4dae69d19",
    "_uuid": "8f2839f25d086af736a60e9eeb907d3b93b6e0e5",
    "execution": {
     "iopub.execute_input": "2025-01-14T10:46:52.612276Z",
     "iopub.status.busy": "2025-01-14T10:46:52.611784Z",
     "iopub.status.idle": "2025-01-14T10:46:53.669208Z",
     "shell.execute_reply": "2025-01-14T10:46:53.667777Z"
    },
    "papermill": {
     "duration": 1.066152,
     "end_time": "2025-01-14T10:46:53.672373",
     "exception": false,
     "start_time": "2025-01-14T10:46:52.606221",
     "status": "completed"
    },
    "tags": []
   },
   "outputs": [
    {
     "name": "stdout",
     "output_type": "stream",
     "text": [
      "/kaggle/input/datav1/pubchem_binding.csv\n"
     ]
    }
   ],
   "source": [
    "# This Python 3 environment comes with many helpful analytics libraries installed\n",
    "# It is defined by the kaggle/python Docker image: https://github.com/kaggle/docker-python\n",
    "# For example, here's several helpful packages to load\n",
    "\n",
    "import numpy as np # linear algebra\n",
    "import pandas as pd # data processing, CSV file I/O (e.g. pd.read_csv)\n",
    "import matplotlib.pyplot as plt\n",
    "\n",
    "# Input data files are available in the read-only \"../input/\" directory\n",
    "# For example, running this (by clicking run or pressing Shift+Enter) will list all files under the input directory\n",
    "\n",
    "import os\n",
    "for dirname, _, filenames in os.walk('/kaggle/input'):\n",
    "    for filename in filenames:\n",
    "        print(os.path.join(dirname, filename))\n",
    "\n",
    "# You can write up to 20GB to the current directory (/kaggle/working/) that gets preserved as output when you create a version using \"Save & Run All\" \n",
    "# You can also write temporary files to /kaggle/temp/, but they won't be saved outside of the current session"
   ]
  },
  {
   "cell_type": "code",
   "execution_count": 2,
   "id": "10dc2098",
   "metadata": {
    "execution": {
     "iopub.execute_input": "2025-01-14T10:46:53.681862Z",
     "iopub.status.busy": "2025-01-14T10:46:53.681153Z",
     "iopub.status.idle": "2025-01-14T10:46:53.736312Z",
     "shell.execute_reply": "2025-01-14T10:46:53.735052Z"
    },
    "papermill": {
     "duration": 0.062417,
     "end_time": "2025-01-14T10:46:53.738679",
     "exception": false,
     "start_time": "2025-01-14T10:46:53.676262",
     "status": "completed"
    },
    "tags": []
   },
   "outputs": [
    {
     "data": {
      "text/html": [
       "<div>\n",
       "<style scoped>\n",
       "    .dataframe tbody tr th:only-of-type {\n",
       "        vertical-align: middle;\n",
       "    }\n",
       "\n",
       "    .dataframe tbody tr th {\n",
       "        vertical-align: top;\n",
       "    }\n",
       "\n",
       "    .dataframe thead th {\n",
       "        text-align: right;\n",
       "    }\n",
       "</style>\n",
       "<table border=\"1\" class=\"dataframe\">\n",
       "  <thead>\n",
       "    <tr style=\"text-align: right;\">\n",
       "      <th></th>\n",
       "      <th>UniprotID</th>\n",
       "      <th>Uniprot Name</th>\n",
       "      <th>Ligand SMILES</th>\n",
       "      <th>PubChem_CID</th>\n",
       "    </tr>\n",
       "  </thead>\n",
       "  <tbody>\n",
       "    <tr>\n",
       "      <th>0</th>\n",
       "      <td>Q14457</td>\n",
       "      <td>BECN1_HUMAN</td>\n",
       "      <td>CCCC(=O)O</td>\n",
       "      <td>264</td>\n",
       "    </tr>\n",
       "    <tr>\n",
       "      <th>1</th>\n",
       "      <td>Q14457</td>\n",
       "      <td>BECN1_HUMAN</td>\n",
       "      <td>C</td>\n",
       "      <td>297</td>\n",
       "    </tr>\n",
       "    <tr>\n",
       "      <th>2</th>\n",
       "      <td>Q14457</td>\n",
       "      <td>BECN1_HUMAN</td>\n",
       "      <td>C[N+](C)(C)CCO</td>\n",
       "      <td>305</td>\n",
       "    </tr>\n",
       "    <tr>\n",
       "      <th>3</th>\n",
       "      <td>Q14457</td>\n",
       "      <td>BECN1_HUMAN</td>\n",
       "      <td>CC(CC(=O)O)O</td>\n",
       "      <td>441</td>\n",
       "    </tr>\n",
       "    <tr>\n",
       "      <th>4</th>\n",
       "      <td>Q14457</td>\n",
       "      <td>BECN1_HUMAN</td>\n",
       "      <td>[O-][As]([O-])[O-]</td>\n",
       "      <td>544</td>\n",
       "    </tr>\n",
       "  </tbody>\n",
       "</table>\n",
       "</div>"
      ],
      "text/plain": [
       "  UniprotID Uniprot Name       Ligand SMILES  PubChem_CID\n",
       "0    Q14457  BECN1_HUMAN           CCCC(=O)O          264\n",
       "1    Q14457  BECN1_HUMAN                   C          297\n",
       "2    Q14457  BECN1_HUMAN      C[N+](C)(C)CCO          305\n",
       "3    Q14457  BECN1_HUMAN        CC(CC(=O)O)O          441\n",
       "4    Q14457  BECN1_HUMAN  [O-][As]([O-])[O-]          544"
      ]
     },
     "execution_count": 2,
     "metadata": {},
     "output_type": "execute_result"
    }
   ],
   "source": [
    "smile = pd.read_csv(\"/kaggle/input/datav1/pubchem_binding.csv\")\n",
    "smile.head()"
   ]
  },
  {
   "cell_type": "code",
   "execution_count": 3,
   "id": "75a19134",
   "metadata": {
    "execution": {
     "iopub.execute_input": "2025-01-14T10:46:53.747361Z",
     "iopub.status.busy": "2025-01-14T10:46:53.746965Z",
     "iopub.status.idle": "2025-01-14T10:46:53.768757Z",
     "shell.execute_reply": "2025-01-14T10:46:53.767559Z"
    },
    "papermill": {
     "duration": 0.028844,
     "end_time": "2025-01-14T10:46:53.771076",
     "exception": false,
     "start_time": "2025-01-14T10:46:53.742232",
     "status": "completed"
    },
    "tags": []
   },
   "outputs": [
    {
     "name": "stdout",
     "output_type": "stream",
     "text": [
      "(4732, 2)\n"
     ]
    },
    {
     "data": {
      "text/html": [
       "<div>\n",
       "<style scoped>\n",
       "    .dataframe tbody tr th:only-of-type {\n",
       "        vertical-align: middle;\n",
       "    }\n",
       "\n",
       "    .dataframe tbody tr th {\n",
       "        vertical-align: top;\n",
       "    }\n",
       "\n",
       "    .dataframe thead th {\n",
       "        text-align: right;\n",
       "    }\n",
       "</style>\n",
       "<table border=\"1\" class=\"dataframe\">\n",
       "  <thead>\n",
       "    <tr style=\"text-align: right;\">\n",
       "      <th></th>\n",
       "      <th>PubChem_CID</th>\n",
       "      <th>Ligand SMILES</th>\n",
       "    </tr>\n",
       "  </thead>\n",
       "  <tbody>\n",
       "    <tr>\n",
       "      <th>0</th>\n",
       "      <td>264</td>\n",
       "      <td>CCCC(=O)O</td>\n",
       "    </tr>\n",
       "    <tr>\n",
       "      <th>1</th>\n",
       "      <td>297</td>\n",
       "      <td>C</td>\n",
       "    </tr>\n",
       "    <tr>\n",
       "      <th>2</th>\n",
       "      <td>305</td>\n",
       "      <td>C[N+](C)(C)CCO</td>\n",
       "    </tr>\n",
       "    <tr>\n",
       "      <th>3</th>\n",
       "      <td>441</td>\n",
       "      <td>CC(CC(=O)O)O</td>\n",
       "    </tr>\n",
       "    <tr>\n",
       "      <th>4</th>\n",
       "      <td>544</td>\n",
       "      <td>[O-][As]([O-])[O-]</td>\n",
       "    </tr>\n",
       "  </tbody>\n",
       "</table>\n",
       "</div>"
      ],
      "text/plain": [
       "   PubChem_CID       Ligand SMILES\n",
       "0          264           CCCC(=O)O\n",
       "1          297                   C\n",
       "2          305      C[N+](C)(C)CCO\n",
       "3          441        CC(CC(=O)O)O\n",
       "4          544  [O-][As]([O-])[O-]"
      ]
     },
     "execution_count": 3,
     "metadata": {},
     "output_type": "execute_result"
    }
   ],
   "source": [
    "smile = smile[['PubChem_CID', 'Ligand SMILES']]\n",
    "print(smile.shape)\n",
    "smile.head()"
   ]
  },
  {
   "cell_type": "code",
   "execution_count": 4,
   "id": "2a700be1",
   "metadata": {
    "execution": {
     "iopub.execute_input": "2025-01-14T10:46:53.780278Z",
     "iopub.status.busy": "2025-01-14T10:46:53.779876Z",
     "iopub.status.idle": "2025-01-14T10:46:53.794507Z",
     "shell.execute_reply": "2025-01-14T10:46:53.793185Z"
    },
    "papermill": {
     "duration": 0.021943,
     "end_time": "2025-01-14T10:46:53.796906",
     "exception": false,
     "start_time": "2025-01-14T10:46:53.774963",
     "status": "completed"
    },
    "tags": []
   },
   "outputs": [
    {
     "name": "stdout",
     "output_type": "stream",
     "text": [
      "      PubChem_CID                                      Ligand SMILES\n",
      "0             264                                          CCCC(=O)O\n",
      "1             297                                                  C\n",
      "2             305                                     C[N+](C)(C)CCO\n",
      "3             441                                       CC(CC(=O)O)O\n",
      "4             544                                 [O-][As]([O-])[O-]\n",
      "...           ...                                                ...\n",
      "4660    168291742  CCCn1c2nc(SSc3nc4n(CCC)c(=O)n(CCC)c(=O)c4[nH]3...\n",
      "4661    168289886  CCn1c2nc(SSc3nc4n(CC)c(=O)n(CCc5ccc(OC)cc5)c(=...\n",
      "4662    168292154  CCn1c2nc(SSc3nc4n(CC)c(=O)n(CC(C)C)c(=O)c4[nH]...\n",
      "4663    168287129  CCn1c2nc(SSc3nc4n(CC)c(=O)n(CC5CCOCC5)c(=O)c4[...\n",
      "4664    168278432  CCn1c2nc(SSc3nc4n(CC)c(=O)n(CCc5ccccc5)c(=O)c4...\n",
      "\n",
      "[2927 rows x 2 columns]\n"
     ]
    }
   ],
   "source": [
    "duplicates = smile[smile['PubChem_CID'].duplicated(keep=False)]\n",
    "print(duplicates)"
   ]
  },
  {
   "cell_type": "code",
   "execution_count": 5,
   "id": "da5084e3",
   "metadata": {
    "execution": {
     "iopub.execute_input": "2025-01-14T10:46:53.805847Z",
     "iopub.status.busy": "2025-01-14T10:46:53.805440Z",
     "iopub.status.idle": "2025-01-14T10:46:53.813034Z",
     "shell.execute_reply": "2025-01-14T10:46:53.811681Z"
    },
    "papermill": {
     "duration": 0.015049,
     "end_time": "2025-01-14T10:46:53.815524",
     "exception": false,
     "start_time": "2025-01-14T10:46:53.800475",
     "status": "completed"
    },
    "tags": []
   },
   "outputs": [
    {
     "name": "stdout",
     "output_type": "stream",
     "text": [
      "Dataframe setelah menghapus duplikat: (2935, 2)\n"
     ]
    }
   ],
   "source": [
    "smile = smile.drop_duplicates(subset='PubChem_CID', keep='first')\n",
    "\n",
    "print(f\"Dataframe setelah menghapus duplikat: {smile.shape}\")"
   ]
  },
  {
   "cell_type": "code",
   "execution_count": 6,
   "id": "505f256d",
   "metadata": {
    "execution": {
     "iopub.execute_input": "2025-01-14T10:46:53.824690Z",
     "iopub.status.busy": "2025-01-14T10:46:53.824241Z",
     "iopub.status.idle": "2025-01-14T10:46:53.835673Z",
     "shell.execute_reply": "2025-01-14T10:46:53.834583Z"
    },
    "papermill": {
     "duration": 0.018718,
     "end_time": "2025-01-14T10:46:53.837905",
     "exception": false,
     "start_time": "2025-01-14T10:46:53.819187",
     "status": "completed"
    },
    "tags": []
   },
   "outputs": [
    {
     "data": {
      "text/html": [
       "<div>\n",
       "<style scoped>\n",
       "    .dataframe tbody tr th:only-of-type {\n",
       "        vertical-align: middle;\n",
       "    }\n",
       "\n",
       "    .dataframe tbody tr th {\n",
       "        vertical-align: top;\n",
       "    }\n",
       "\n",
       "    .dataframe thead th {\n",
       "        text-align: right;\n",
       "    }\n",
       "</style>\n",
       "<table border=\"1\" class=\"dataframe\">\n",
       "  <thead>\n",
       "    <tr style=\"text-align: right;\">\n",
       "      <th></th>\n",
       "      <th>PubChem_CID</th>\n",
       "      <th>Ligand SMILES</th>\n",
       "    </tr>\n",
       "  </thead>\n",
       "  <tbody>\n",
       "    <tr>\n",
       "      <th>0</th>\n",
       "      <td>264</td>\n",
       "      <td>CCCC(=O)O</td>\n",
       "    </tr>\n",
       "    <tr>\n",
       "      <th>1</th>\n",
       "      <td>297</td>\n",
       "      <td>C</td>\n",
       "    </tr>\n",
       "    <tr>\n",
       "      <th>2</th>\n",
       "      <td>305</td>\n",
       "      <td>C[N+](C)(C)CCO</td>\n",
       "    </tr>\n",
       "    <tr>\n",
       "      <th>3</th>\n",
       "      <td>441</td>\n",
       "      <td>CC(CC(=O)O)O</td>\n",
       "    </tr>\n",
       "    <tr>\n",
       "      <th>4</th>\n",
       "      <td>544</td>\n",
       "      <td>[O-][As]([O-])[O-]</td>\n",
       "    </tr>\n",
       "    <tr>\n",
       "      <th>...</th>\n",
       "      <td>...</td>\n",
       "      <td>...</td>\n",
       "    </tr>\n",
       "    <tr>\n",
       "      <th>4727</th>\n",
       "      <td>156293737</td>\n",
       "      <td>Brc1ccc(cc1)C(=O)N1N=C(CC1c1ccccc1)c1ccc(NC(=O...</td>\n",
       "    </tr>\n",
       "    <tr>\n",
       "      <th>4728</th>\n",
       "      <td>156294005</td>\n",
       "      <td>CCOC(=O)Nc1ccc(cc1)C1=NN(C(C1)c1ccccc1)C(=O)c1...</td>\n",
       "    </tr>\n",
       "    <tr>\n",
       "      <th>4729</th>\n",
       "      <td>156294009</td>\n",
       "      <td>CN(C)C(=O)Nc1ccc(cc1)C1=NN(C(C1)c1ccccc1)C(=O)...</td>\n",
       "    </tr>\n",
       "    <tr>\n",
       "      <th>4730</th>\n",
       "      <td>156293651</td>\n",
       "      <td>Brc1ccc(cc1)C(=O)N1N=C(CC1c1ccccc1)c1ccc(NC(=O...</td>\n",
       "    </tr>\n",
       "    <tr>\n",
       "      <th>4731</th>\n",
       "      <td>156294006</td>\n",
       "      <td>Brc1ccc(cc1)C(=O)N1N=C(CC1c1ccccc1)c1ccc(NC(=O...</td>\n",
       "    </tr>\n",
       "  </tbody>\n",
       "</table>\n",
       "<p>2935 rows × 2 columns</p>\n",
       "</div>"
      ],
      "text/plain": [
       "      PubChem_CID                                      Ligand SMILES\n",
       "0             264                                          CCCC(=O)O\n",
       "1             297                                                  C\n",
       "2             305                                     C[N+](C)(C)CCO\n",
       "3             441                                       CC(CC(=O)O)O\n",
       "4             544                                 [O-][As]([O-])[O-]\n",
       "...           ...                                                ...\n",
       "4727    156293737  Brc1ccc(cc1)C(=O)N1N=C(CC1c1ccccc1)c1ccc(NC(=O...\n",
       "4728    156294005  CCOC(=O)Nc1ccc(cc1)C1=NN(C(C1)c1ccccc1)C(=O)c1...\n",
       "4729    156294009  CN(C)C(=O)Nc1ccc(cc1)C1=NN(C(C1)c1ccccc1)C(=O)...\n",
       "4730    156293651  Brc1ccc(cc1)C(=O)N1N=C(CC1c1ccccc1)c1ccc(NC(=O...\n",
       "4731    156294006  Brc1ccc(cc1)C(=O)N1N=C(CC1c1ccccc1)c1ccc(NC(=O...\n",
       "\n",
       "[2935 rows x 2 columns]"
      ]
     },
     "execution_count": 6,
     "metadata": {},
     "output_type": "execute_result"
    }
   ],
   "source": [
    "smile"
   ]
  },
  {
   "cell_type": "code",
   "execution_count": 7,
   "id": "1ab74318",
   "metadata": {
    "execution": {
     "iopub.execute_input": "2025-01-14T10:46:53.847480Z",
     "iopub.status.busy": "2025-01-14T10:46:53.847133Z",
     "iopub.status.idle": "2025-01-14T10:47:11.826322Z",
     "shell.execute_reply": "2025-01-14T10:47:11.824824Z"
    },
    "papermill": {
     "duration": 17.987271,
     "end_time": "2025-01-14T10:47:11.829186",
     "exception": false,
     "start_time": "2025-01-14T10:46:53.841915",
     "status": "completed"
    },
    "tags": []
   },
   "outputs": [
    {
     "name": "stdout",
     "output_type": "stream",
     "text": [
      "Collecting deepchem\r\n",
      "  Downloading deepchem-2.8.0-py3-none-any.whl.metadata (2.0 kB)\r\n",
      "Requirement already satisfied: joblib in /opt/conda/lib/python3.10/site-packages (from deepchem) (1.4.2)\r\n",
      "Requirement already satisfied: numpy>=1.21 in /opt/conda/lib/python3.10/site-packages (from deepchem) (1.26.4)\r\n",
      "Requirement already satisfied: pandas in /opt/conda/lib/python3.10/site-packages (from deepchem) (2.2.3)\r\n",
      "Requirement already satisfied: scikit-learn in /opt/conda/lib/python3.10/site-packages (from deepchem) (1.2.2)\r\n",
      "Requirement already satisfied: sympy in /opt/conda/lib/python3.10/site-packages (from deepchem) (1.12)\r\n",
      "Requirement already satisfied: scipy>=1.10.1 in /opt/conda/lib/python3.10/site-packages (from deepchem) (1.14.1)\r\n",
      "Collecting rdkit (from deepchem)\r\n",
      "  Downloading rdkit-2024.9.4-cp310-cp310-manylinux_2_28_x86_64.whl.metadata (4.0 kB)\r\n",
      "Requirement already satisfied: python-dateutil>=2.8.2 in /opt/conda/lib/python3.10/site-packages (from pandas->deepchem) (2.9.0.post0)\r\n",
      "Requirement already satisfied: pytz>=2020.1 in /opt/conda/lib/python3.10/site-packages (from pandas->deepchem) (2024.1)\r\n",
      "Requirement already satisfied: tzdata>=2022.7 in /opt/conda/lib/python3.10/site-packages (from pandas->deepchem) (2024.1)\r\n",
      "Requirement already satisfied: Pillow in /opt/conda/lib/python3.10/site-packages (from rdkit->deepchem) (10.3.0)\r\n",
      "Requirement already satisfied: threadpoolctl>=2.0.0 in /opt/conda/lib/python3.10/site-packages (from scikit-learn->deepchem) (3.5.0)\r\n",
      "Requirement already satisfied: mpmath>=0.19 in /opt/conda/lib/python3.10/site-packages (from sympy->deepchem) (1.3.0)\r\n",
      "Requirement already satisfied: six>=1.5 in /opt/conda/lib/python3.10/site-packages (from python-dateutil>=2.8.2->pandas->deepchem) (1.16.0)\r\n",
      "Downloading deepchem-2.8.0-py3-none-any.whl (1.0 MB)\r\n",
      "\u001b[2K   \u001b[90m━━━━━━━━━━━━━━━━━━━━━━━━━━━━━━━━━━━━━━━━\u001b[0m \u001b[32m1.0/1.0 MB\u001b[0m \u001b[31m19.0 MB/s\u001b[0m eta \u001b[36m0:00:00\u001b[0m\r\n",
      "\u001b[?25hDownloading rdkit-2024.9.4-cp310-cp310-manylinux_2_28_x86_64.whl (34.2 MB)\r\n",
      "\u001b[2K   \u001b[90m━━━━━━━━━━━━━━━━━━━━━━━━━━━━━━━━━━━━━━━━\u001b[0m \u001b[32m34.2/34.2 MB\u001b[0m \u001b[31m41.8 MB/s\u001b[0m eta \u001b[36m0:00:00\u001b[0m\r\n",
      "\u001b[?25hInstalling collected packages: rdkit, deepchem\r\n",
      "Successfully installed deepchem-2.8.0 rdkit-2024.9.4\r\n"
     ]
    }
   ],
   "source": [
    "!pip install deepchem"
   ]
  },
  {
   "cell_type": "code",
   "execution_count": 8,
   "id": "7a13041a",
   "metadata": {
    "execution": {
     "iopub.execute_input": "2025-01-14T10:47:11.841345Z",
     "iopub.status.busy": "2025-01-14T10:47:11.840949Z",
     "iopub.status.idle": "2025-01-14T10:47:25.973305Z",
     "shell.execute_reply": "2025-01-14T10:47:25.972006Z"
    },
    "papermill": {
     "duration": 14.141878,
     "end_time": "2025-01-14T10:47:25.976277",
     "exception": false,
     "start_time": "2025-01-14T10:47:11.834399",
     "status": "completed"
    },
    "tags": []
   },
   "outputs": [
    {
     "name": "stdout",
     "output_type": "stream",
     "text": [
      "Collecting pubchempy\r\n",
      "  Downloading PubChemPy-1.0.4.tar.gz (29 kB)\r\n",
      "  Preparing metadata (setup.py) ... \u001b[?25l-\b \bdone\r\n",
      "\u001b[?25hBuilding wheels for collected packages: pubchempy\r\n",
      "  Building wheel for pubchempy (setup.py) ... \u001b[?25l-\b \b\\\b \bdone\r\n",
      "\u001b[?25h  Created wheel for pubchempy: filename=PubChemPy-1.0.4-py3-none-any.whl size=13820 sha256=d329e0a6b095f757bd6ed7b5645da65ce960a7f03c04f6ecb33de015dbba82ea\r\n",
      "  Stored in directory: /root/.cache/pip/wheels/90/7c/45/18a0671e3c3316966ef7ed9ad2b3f3300a7e41d3421a44e799\r\n",
      "Successfully built pubchempy\r\n",
      "Installing collected packages: pubchempy\r\n",
      "Successfully installed pubchempy-1.0.4\r\n"
     ]
    }
   ],
   "source": [
    "!pip install pubchempy"
   ]
  },
  {
   "cell_type": "code",
   "execution_count": 9,
   "id": "a1c4e670",
   "metadata": {
    "execution": {
     "iopub.execute_input": "2025-01-14T10:47:25.991372Z",
     "iopub.status.busy": "2025-01-14T10:47:25.990911Z",
     "iopub.status.idle": "2025-01-14T11:23:44.167408Z",
     "shell.execute_reply": "2025-01-14T11:23:44.165770Z"
    },
    "papermill": {
     "duration": 2178.189003,
     "end_time": "2025-01-14T11:23:44.171552",
     "exception": false,
     "start_time": "2025-01-14T10:47:25.982549",
     "status": "completed"
    },
    "tags": []
   },
   "outputs": [
    {
     "name": "stderr",
     "output_type": "stream",
     "text": [
      "\u001b[34m\u001b[1mwandb\u001b[0m: \u001b[33mWARNING\u001b[0m W&B installed but not logged in.  Run `wandb login` or set the WANDB_API_KEY env variable.\n",
      "\u001b[34m\u001b[1mwandb\u001b[0m: \u001b[33mWARNING\u001b[0m W&B installed but not logged in.  Run `wandb login` or set the WANDB_API_KEY env variable.\n",
      "[10:56:41] WARNING: not removing hydrogen atom without neighbors\n",
      "[10:56:41] WARNING: not removing hydrogen atom without neighbors\n",
      "[10:58:59] WARNING: not removing hydrogen atom without neighbors\n",
      "[10:58:59] WARNING: not removing hydrogen atom without neighbors\n",
      "[10:58:59] WARNING: not removing hydrogen atom without neighbors\n",
      "[10:59:28] WARNING: not removing hydrogen atom without neighbors\n"
     ]
    }
   ],
   "source": [
    "import deepchem as dc\n",
    "import pubchempy as pcp\n",
    "featurizer = dc.feat.PubChemFingerprint()\n",
    "\n",
    "def get_pubchem_fingerprints(smiles_list):\n",
    "    fingerprints = []\n",
    "    for smiles in smiles_list:\n",
    "        fingerprint = featurizer.featurize([smiles])\n",
    "        fingerprints.append(fingerprint[0]) \n",
    "    return fingerprints\n",
    "\n",
    "smile['pubchem_fingerprint'] = get_pubchem_fingerprints(smile['Ligand SMILES'].tolist())"
   ]
  },
  {
   "cell_type": "code",
   "execution_count": 10,
   "id": "109a2dcd",
   "metadata": {
    "execution": {
     "iopub.execute_input": "2025-01-14T11:23:44.190852Z",
     "iopub.status.busy": "2025-01-14T11:23:44.189809Z",
     "iopub.status.idle": "2025-01-14T11:23:44.218073Z",
     "shell.execute_reply": "2025-01-14T11:23:44.216582Z"
    },
    "papermill": {
     "duration": 0.040465,
     "end_time": "2025-01-14T11:23:44.220763",
     "exception": false,
     "start_time": "2025-01-14T11:23:44.180298",
     "status": "completed"
    },
    "tags": []
   },
   "outputs": [
    {
     "data": {
      "text/html": [
       "<div>\n",
       "<style scoped>\n",
       "    .dataframe tbody tr th:only-of-type {\n",
       "        vertical-align: middle;\n",
       "    }\n",
       "\n",
       "    .dataframe tbody tr th {\n",
       "        vertical-align: top;\n",
       "    }\n",
       "\n",
       "    .dataframe thead th {\n",
       "        text-align: right;\n",
       "    }\n",
       "</style>\n",
       "<table border=\"1\" class=\"dataframe\">\n",
       "  <thead>\n",
       "    <tr style=\"text-align: right;\">\n",
       "      <th></th>\n",
       "      <th>PubChem_CID</th>\n",
       "      <th>Ligand SMILES</th>\n",
       "      <th>pubchem_fingerprint</th>\n",
       "    </tr>\n",
       "  </thead>\n",
       "  <tbody>\n",
       "    <tr>\n",
       "      <th>0</th>\n",
       "      <td>264</td>\n",
       "      <td>CCCC(=O)O</td>\n",
       "      <td>[1, 1, 0, 0, 0, 0, 0, 0, 0, 1, 1, 0, 0, 0, 0, ...</td>\n",
       "    </tr>\n",
       "    <tr>\n",
       "      <th>1</th>\n",
       "      <td>297</td>\n",
       "      <td>C</td>\n",
       "      <td>[1, 0, 0, 0, 0, 0, 0, 0, 0, 0, 0, 0, 0, 0, 0, ...</td>\n",
       "    </tr>\n",
       "    <tr>\n",
       "      <th>2</th>\n",
       "      <td>305</td>\n",
       "      <td>C[N+](C)(C)CCO</td>\n",
       "      <td>[1, 1, 0, 0, 0, 0, 0, 0, 0, 1, 1, 0, 0, 0, 1, ...</td>\n",
       "    </tr>\n",
       "    <tr>\n",
       "      <th>3</th>\n",
       "      <td>441</td>\n",
       "      <td>CC(CC(=O)O)O</td>\n",
       "      <td>[1, 1, 0, 0, 0, 0, 0, 0, 0, 1, 1, 0, 0, 0, 0, ...</td>\n",
       "    </tr>\n",
       "    <tr>\n",
       "      <th>4</th>\n",
       "      <td>544</td>\n",
       "      <td>[O-][As]([O-])[O-]</td>\n",
       "      <td>[0, 0, 0, 0, 0, 0, 0, 0, 0, 0, 0, 0, 0, 0, 0, ...</td>\n",
       "    </tr>\n",
       "    <tr>\n",
       "      <th>...</th>\n",
       "      <td>...</td>\n",
       "      <td>...</td>\n",
       "      <td>...</td>\n",
       "    </tr>\n",
       "    <tr>\n",
       "      <th>4727</th>\n",
       "      <td>156293737</td>\n",
       "      <td>Brc1ccc(cc1)C(=O)N1N=C(CC1c1ccccc1)c1ccc(NC(=O...</td>\n",
       "      <td>[1, 1, 1, 0, 0, 0, 0, 0, 0, 1, 1, 1, 1, 0, 1, ...</td>\n",
       "    </tr>\n",
       "    <tr>\n",
       "      <th>4728</th>\n",
       "      <td>156294005</td>\n",
       "      <td>CCOC(=O)Nc1ccc(cc1)C1=NN(C(C1)c1ccccc1)C(=O)c1...</td>\n",
       "      <td>[1, 1, 1, 0, 0, 0, 0, 0, 0, 1, 1, 1, 1, 0, 1, ...</td>\n",
       "    </tr>\n",
       "    <tr>\n",
       "      <th>4729</th>\n",
       "      <td>156294009</td>\n",
       "      <td>CN(C)C(=O)Nc1ccc(cc1)C1=NN(C(C1)c1ccccc1)C(=O)...</td>\n",
       "      <td>[1, 1, 1, 0, 0, 0, 0, 0, 0, 1, 1, 1, 1, 0, 1, ...</td>\n",
       "    </tr>\n",
       "    <tr>\n",
       "      <th>4730</th>\n",
       "      <td>156293651</td>\n",
       "      <td>Brc1ccc(cc1)C(=O)N1N=C(CC1c1ccccc1)c1ccc(NC(=O...</td>\n",
       "      <td>[1, 1, 1, 0, 0, 0, 0, 0, 0, 1, 1, 1, 1, 0, 1, ...</td>\n",
       "    </tr>\n",
       "    <tr>\n",
       "      <th>4731</th>\n",
       "      <td>156294006</td>\n",
       "      <td>Brc1ccc(cc1)C(=O)N1N=C(CC1c1ccccc1)c1ccc(NC(=O...</td>\n",
       "      <td>[1, 1, 1, 0, 0, 0, 0, 0, 0, 1, 1, 1, 1, 0, 1, ...</td>\n",
       "    </tr>\n",
       "  </tbody>\n",
       "</table>\n",
       "<p>2935 rows × 3 columns</p>\n",
       "</div>"
      ],
      "text/plain": [
       "      PubChem_CID                                      Ligand SMILES  \\\n",
       "0             264                                          CCCC(=O)O   \n",
       "1             297                                                  C   \n",
       "2             305                                     C[N+](C)(C)CCO   \n",
       "3             441                                       CC(CC(=O)O)O   \n",
       "4             544                                 [O-][As]([O-])[O-]   \n",
       "...           ...                                                ...   \n",
       "4727    156293737  Brc1ccc(cc1)C(=O)N1N=C(CC1c1ccccc1)c1ccc(NC(=O...   \n",
       "4728    156294005  CCOC(=O)Nc1ccc(cc1)C1=NN(C(C1)c1ccccc1)C(=O)c1...   \n",
       "4729    156294009  CN(C)C(=O)Nc1ccc(cc1)C1=NN(C(C1)c1ccccc1)C(=O)...   \n",
       "4730    156293651  Brc1ccc(cc1)C(=O)N1N=C(CC1c1ccccc1)c1ccc(NC(=O...   \n",
       "4731    156294006  Brc1ccc(cc1)C(=O)N1N=C(CC1c1ccccc1)c1ccc(NC(=O...   \n",
       "\n",
       "                                    pubchem_fingerprint  \n",
       "0     [1, 1, 0, 0, 0, 0, 0, 0, 0, 1, 1, 0, 0, 0, 0, ...  \n",
       "1     [1, 0, 0, 0, 0, 0, 0, 0, 0, 0, 0, 0, 0, 0, 0, ...  \n",
       "2     [1, 1, 0, 0, 0, 0, 0, 0, 0, 1, 1, 0, 0, 0, 1, ...  \n",
       "3     [1, 1, 0, 0, 0, 0, 0, 0, 0, 1, 1, 0, 0, 0, 0, ...  \n",
       "4     [0, 0, 0, 0, 0, 0, 0, 0, 0, 0, 0, 0, 0, 0, 0, ...  \n",
       "...                                                 ...  \n",
       "4727  [1, 1, 1, 0, 0, 0, 0, 0, 0, 1, 1, 1, 1, 0, 1, ...  \n",
       "4728  [1, 1, 1, 0, 0, 0, 0, 0, 0, 1, 1, 1, 1, 0, 1, ...  \n",
       "4729  [1, 1, 1, 0, 0, 0, 0, 0, 0, 1, 1, 1, 1, 0, 1, ...  \n",
       "4730  [1, 1, 1, 0, 0, 0, 0, 0, 0, 1, 1, 1, 1, 0, 1, ...  \n",
       "4731  [1, 1, 1, 0, 0, 0, 0, 0, 0, 1, 1, 1, 1, 0, 1, ...  \n",
       "\n",
       "[2935 rows x 3 columns]"
      ]
     },
     "execution_count": 10,
     "metadata": {},
     "output_type": "execute_result"
    }
   ],
   "source": [
    "smile"
   ]
  },
  {
   "cell_type": "code",
   "execution_count": 11,
   "id": "9c5be79b",
   "metadata": {
    "execution": {
     "iopub.execute_input": "2025-01-14T11:23:44.236098Z",
     "iopub.status.busy": "2025-01-14T11:23:44.235687Z",
     "iopub.status.idle": "2025-01-14T11:23:48.325668Z",
     "shell.execute_reply": "2025-01-14T11:23:48.324440Z"
    },
    "papermill": {
     "duration": 4.100919,
     "end_time": "2025-01-14T11:23:48.328219",
     "exception": false,
     "start_time": "2025-01-14T11:23:44.227300",
     "status": "completed"
    },
    "tags": []
   },
   "outputs": [],
   "source": [
    "smile.to_csv('/kaggle/working/fitursenyawa.csv', index=False)"
   ]
  }
 ],
 "metadata": {
  "kaggle": {
   "accelerator": "none",
   "dataSources": [
    {
     "datasetId": 5982940,
     "sourceId": 9768567,
     "sourceType": "datasetVersion"
    }
   ],
   "dockerImageVersionId": 30786,
   "isGpuEnabled": false,
   "isInternetEnabled": true,
   "language": "python",
   "sourceType": "notebook"
  },
  "kernelspec": {
   "display_name": "Python 3",
   "language": "python",
   "name": "python3"
  },
  "language_info": {
   "codemirror_mode": {
    "name": "ipython",
    "version": 3
   },
   "file_extension": ".py",
   "mimetype": "text/x-python",
   "name": "python",
   "nbconvert_exporter": "python",
   "pygments_lexer": "ipython3",
   "version": "3.10.14"
  },
  "papermill": {
   "default_parameters": {},
   "duration": 2223.272957,
   "end_time": "2025-01-14T11:23:51.942419",
   "environment_variables": {},
   "exception": null,
   "input_path": "__notebook__.ipynb",
   "output_path": "__notebook__.ipynb",
   "parameters": {},
   "start_time": "2025-01-14T10:46:48.669462",
   "version": "2.6.0"
  }
 },
 "nbformat": 4,
 "nbformat_minor": 5
}
